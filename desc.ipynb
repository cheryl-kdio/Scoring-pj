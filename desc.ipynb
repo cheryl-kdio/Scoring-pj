{
 "cells": [
  {
   "cell_type": "code",
   "execution_count": 1,
   "metadata": {},
   "outputs": [],
   "source": [
    "#### Import de libraries\n",
    "import seaborn as sns\n",
    "import pandas as pd\n",
    "import warnings\n",
    "import matplotlib.pyplot as plt\n",
    "import numpy as np\n",
    "import matplotlib.pyplot as plt\n",
    "import importlib\n",
    "import functions \n",
    "import scipy.stats as stats\n",
    "from tabulate import tabulate\n",
    "from sklearn.model_selection import train_test_split"
   ]
  },
  {
   "cell_type": "code",
   "execution_count": 2,
   "metadata": {},
   "outputs": [],
   "source": [
    "# import de la base de données excel\n",
    "warnings.filterwarnings(\"ignore\")\n",
    "\n",
    "data = pd.read_excel('sci.xlsx')"
   ]
  },
  {
   "cell_type": "code",
   "execution_count": 3,
   "metadata": {},
   "outputs": [
    {
     "name": "stdout",
     "output_type": "stream",
     "text": [
      "<class 'pandas.core.frame.DataFrame'>\n",
      "RangeIndex: 495514 entries, 0 to 495513\n",
      "Data columns (total 67 columns):\n",
      " #   Column                       Non-Null Count   Dtype         \n",
      "---  ------                       --------------   -----         \n",
      " 0   id_client                    495514 non-null  int64         \n",
      " 1   DDefaut_NDB                  495514 non-null  int64         \n",
      " 2   datdelhis                    495514 non-null  int64         \n",
      " 3   AGEPRS                       495514 non-null  int64         \n",
      " 4   ANCIENNETE                   495514 non-null  int64         \n",
      " 5   CODETAJUR                    495514 non-null  int64         \n",
      " 6   CODITDBDF_PRO                495514 non-null  int64         \n",
      " 7   CODNAF2                      495514 non-null  object        \n",
      " 8   CODTYPPRS                    495514 non-null  int64         \n",
      " 9   CRTAD_AG_MVTAFF_IND_0010     495514 non-null  int64         \n",
      " 10  CRTAD_AG_NBECR_A             495514 non-null  int64         \n",
      " 11  CRTAD_AG_NBECR_B             495514 non-null  int64         \n",
      " 12  CRTAD_AG_NBJDE_BA            495514 non-null  int64         \n",
      " 13  CRTAD_AG_NBJDE_BB            495514 non-null  int64         \n",
      " 14  CRTAD_AG_NBJDE_BC            495514 non-null  int64         \n",
      " 15  CRTAD_AG_SOLDE_IND_0009      495514 non-null  int64         \n",
      " 16  CRTAD_AG_SOLDE_T             495514 non-null  int64         \n",
      " 17  CRTAD_AG_SOLDE_T1            495514 non-null  int64         \n",
      " 18  CRTAD_AG_SOLDE_T2            495514 non-null  int64         \n",
      " 19  CRTAD_AG_SOLDE_T3            495514 non-null  int64         \n",
      " 20  CRTAD_AG_SOLDE_T4            495514 non-null  int64         \n",
      " 21  CRTAD_IND_0015               495514 non-null  int64         \n",
      " 22  CRTAD_IND_0038               495514 non-null  int64         \n",
      " 23  CRTAD_IND_0062               495514 non-null  int64         \n",
      " 24  CRTAD_IND_0205               495514 non-null  int64         \n",
      " 25  CRTAE_AG_SLDEPA              495514 non-null  int64         \n",
      " 26  CRTAR_IND_0036               495514 non-null  int64         \n",
      " 27  CRTOC_AG_LIGCRE_2T_IND_0009  495514 non-null  int64         \n",
      " 28  CRTOC_AG_LIGCRE_IND_0009     495514 non-null  int64         \n",
      " 29  CRTOC_AG_LIGDEB_2T_IND_0015  495514 non-null  int64         \n",
      " 30  CRTOC_AG_LIGDEB_IND_0015     495514 non-null  int64         \n",
      " 31  CRTOC_AG_MVTAFF_2T_IND_0010  495514 non-null  int64         \n",
      " 32  CRTOC_AG_MVTAFF_IND_0010     495514 non-null  int64         \n",
      " 33  CRTOC_AG_NBJCRE_2T_IND_0009  495514 non-null  int64         \n",
      " 34  CRTOC_AG_NBJDEB_2T_IND_0015  495514 non-null  int64         \n",
      " 35  CRTOC_AG_NBJDEB_IND_0015     495514 non-null  int64         \n",
      " 36  CRTOC_IND_0010               495514 non-null  int64         \n",
      " 37  CRTOC_IND_0015               495514 non-null  int64         \n",
      " 38  CRTOC_IND_0164               495514 non-null  int64         \n",
      " 39  CRTOC_IND_0301               495514 non-null  int64         \n",
      " 40  CRTOC_MOY_MVTAFF_IND_0010    495514 non-null  int64         \n",
      " 41  CRTOC_SLD_MOY                495514 non-null  int64         \n",
      " 42  CRTOD_CMT_IND_0036           495514 non-null  int64         \n",
      " 43  CRTOD_CMT_PRO_IND_0209       495514 non-null  int64         \n",
      " 44  CRTOP_AG_IND_0038            495514 non-null  int64         \n",
      " 45  CRTOP_IND_0038               495514 non-null  int64         \n",
      " 46  CRTOU_CCT_PRO_IND_0209       495514 non-null  int64         \n",
      " 47  DATCREENT                    0 non-null       float64       \n",
      " 48  DATRLNORG                    495514 non-null  int64         \n",
      " 49  INDPARDCD                    2484 non-null    float64       \n",
      " 50  MINSOLDE_PAR                 495514 non-null  int64         \n",
      " 51  NBECR_PAR                    495514 non-null  int64         \n",
      " 52  RATIO1                       495514 non-null  int64         \n",
      " 53  RATIO3                       495514 non-null  int64         \n",
      " 54  TOP_PRO_ACTIF                495514 non-null  object        \n",
      " 55  CRTAD_IND_0042               495514 non-null  int64         \n",
      " 56  CODACVPRO                    495514 non-null  int64         \n",
      " 57  DATCREPRSENT                 490849 non-null  datetime64[ns]\n",
      " 58  IND_ACTIF                    495514 non-null  int64         \n",
      " 59  IND_PER_PM                   495514 non-null  object        \n",
      " 60  CODCMNIEE                    2484 non-null    float64       \n",
      " 61  CODPAY_NAISSANCE             2484 non-null    object        \n",
      " 62  CODPAY_NATIONALITE           495514 non-null  object        \n",
      " 63  CODPAY_RESIDENCE             495514 non-null  object        \n",
      " 64  CODSEXPRS                    495514 non-null  int64         \n",
      " 65  secteur_activite             495514 non-null  object        \n",
      " 66  secteur_activite_bis         495514 non-null  object        \n",
      "dtypes: datetime64[ns](1), float64(3), int64(55), object(8)\n",
      "memory usage: 253.3+ MB\n"
     ]
    }
   ],
   "source": [
    "df= data.copy()\n",
    "df.info()\n",
    "# Jeu de données initial avec 67 colonnes et 495514 lignes."
   ]
  },
  {
   "cell_type": "markdown",
   "metadata": {},
   "source": [
    "### 0. Vérifications préliminaires\n",
    "\n",
    "On aurait pu également regrouper les informations sur le pays de résidence ou de naissance en résident UE ou non UE car le RGPD nous permet. Cependant, elles ne seraient pas très utiles dans la prédiction car ce sont des variables très sureprésentées dans les données."
   ]
  },
  {
   "cell_type": "code",
   "execution_count": 4,
   "metadata": {},
   "outputs": [],
   "source": [
    "# Suppression des variables illégales\n",
    "var_illegales = ['CODPAY_NAISSANCE', 'CODPAY_NATIONALITE','CODSEXPRS','CODCMNIEE','CODPAY_RESIDENCE']\n",
    "df.drop(columns=var_illegales,inplace=True)\n",
    "\n",
    "#=> 62 colonnes"
   ]
  },
  {
   "cell_type": "code",
   "execution_count": 5,
   "metadata": {},
   "outputs": [
    {
     "name": "stdout",
     "output_type": "stream",
     "text": [
      "0\n"
     ]
    }
   ],
   "source": [
    "# Vérification des doublons par ligne dans la base de données\n",
    "print(df.duplicated().sum())"
   ]
  },
  {
   "cell_type": "code",
   "execution_count": 6,
   "metadata": {},
   "outputs": [
    {
     "data": {
      "text/plain": [
       "False"
      ]
     },
     "execution_count": 6,
     "metadata": {},
     "output_type": "execute_result"
    }
   ],
   "source": [
    "# Vérification des doublons par colonnes\n",
    "all(df['CRTAD_AG_SOLDE_T']==df[\"CRTAE_AG_SLDEPA\"])"
   ]
  },
  {
   "cell_type": "code",
   "execution_count": 7,
   "metadata": {},
   "outputs": [
    {
     "name": "stdout",
     "output_type": "stream",
     "text": [
      "all(df['DATCREENT'==df['DATCREPRSENT']])=True\n"
     ]
    }
   ],
   "source": [
    "print(f\"{all(df['DATCREENT'==df['DATCREPRSENT']])=}\")\n",
    "df.drop(columns=['DATCREPRSENT'],inplace=True)\n",
    "#=> 62 colonnes"
   ]
  },
  {
   "cell_type": "markdown",
   "metadata": {},
   "source": [
    "##### Identification des variables explicatives catégorielles et des variables numériques"
   ]
  },
  {
   "cell_type": "code",
   "execution_count": 8,
   "metadata": {},
   "outputs": [
    {
     "name": "stdout",
     "output_type": "stream",
     "text": [
      "----------------------------------------\n",
      "Nombre total de variables ayant moins de 30 modalités : 19 \n",
      "\n",
      "----------------------------------------\n",
      "                  Variable  Unique_Count\n",
      "10               DATCREENT             0\n",
      "9   CRTOU_CCT_PRO_IND_0209             1\n",
      "15               IND_ACTIF             1\n",
      "14           TOP_PRO_ACTIF             1\n",
      "13                  RATIO3             1\n",
      "12                  RATIO1             1\n",
      "11               INDPARDCD             1\n",
      "17        secteur_activite             1\n",
      "18    secteur_activite_bis             1\n",
      "7        CRTOP_AG_IND_0038             1\n",
      "6   CRTOD_CMT_PRO_IND_0209             1\n",
      "8           CRTOP_IND_0038             1\n",
      "4                CODTYPPRS             2\n",
      "2            CODITDBDF_PRO             2\n",
      "16              IND_PER_PM             2\n",
      "0              DDefaut_NDB             2\n",
      "3                  CODNAF2             4\n",
      "1                datdelhis             6\n",
      "5           CRTAD_IND_0062             7\n",
      "----------------------------------------\n"
     ]
    }
   ],
   "source": [
    "importlib.reload(functions)\n",
    "\n",
    "# Affichage des variables ayant un nombre de valeurs uniques inférieurs à 30 \n",
    "# Le seuil de 30 est arbitraire\n",
    "# retrait de variables date et defaut\n",
    "result_df= functions.find_categorical_variables(df, 30)"
   ]
  },
  {
   "cell_type": "code",
   "execution_count": 9,
   "metadata": {},
   "outputs": [
    {
     "name": "stdout",
     "output_type": "stream",
     "text": [
      "['CODITDBDF_PRO', 'CODNAF2', 'CODTYPPRS', 'IND_PER_PM']\n",
      "CODITDBDF_PRO : int64\n",
      "CODNAF2 : object\n",
      "CODTYPPRS : int64\n",
      "IND_PER_PM : object\n"
     ]
    }
   ],
   "source": [
    "# Retrait de la variable CRTAD_IND_0062 car elle est quantitative discrète \n",
    "# Retrait des variables date et defaut, car ce ne sont pas des variables explicatives\n",
    "# et des variables n'ayant qu'une modalité\n",
    "pre_categorical_vars = [ col for col in result_df[\"Variable\"][result_df[\"Unique_Count\"]>=2]\n",
    "                     if col not in [\"CRTAD_IND_0062\", \"datdelhis\", \"DDefaut_NDB\"]]\n",
    "print(pre_categorical_vars)\n",
    "\n",
    "for col in pre_categorical_vars:\n",
    "    print(f\"{col} : {df[col].dtypes}\")\n",
    "\n",
    "# Transformation des variables catégorielles en variables catégorielles\n",
    "df[pre_categorical_vars] = df[pre_categorical_vars].astype('category')"
   ]
  },
  {
   "cell_type": "code",
   "execution_count": 10,
   "metadata": {},
   "outputs": [
    {
     "name": "stdout",
     "output_type": "stream",
     "text": [
      "42\n"
     ]
    }
   ],
   "source": [
    "# Variables à exclure car elles n'ont qu'une modalité\n",
    "vars_to_exclude = result_df[\"Variable\"][result_df[\"Unique_Count\"] <= 1].tolist() \n",
    "\n",
    "# Variables continues\n",
    "pre_cont_vars = [col for col in df.columns if col not in (pre_categorical_vars + vars_to_exclude + ['id_client', 'DDefaut_NDB', 'datdelhis'])]\n",
    "print(len(pre_cont_vars))"
   ]
  },
  {
   "cell_type": "markdown",
   "metadata": {},
   "source": [
    "##### Identification des variables à une modalité au plus pour description des individus de la bdd\n",
    "\n",
    "Notre jeu de données est constitué de SCI, ayant un indicateur actif = 0, avec des Montant des litiges (CRTOD_CMT_PRO_IND_0209), Somme des soldes moyens trimestre (m a m-2), soldes moyen (CRTOP_AG_IND_0038), cumul de litiges (CRTOU_CCT_PRO_IND_0209), Solde en jours de mouvement d'affaire (Ratio 1) et  Solde débiteur cumulé rapporté au mouvement d'affaire (Ratio 3) nuls."
   ]
  },
  {
   "cell_type": "code",
   "execution_count": 11,
   "metadata": {},
   "outputs": [
    {
     "name": "stdout",
     "output_type": "stream",
     "text": [
      "CRTOD_CMT_PRO_IND_0209 : [0]\n",
      "CRTOP_AG_IND_0038 : [0]\n",
      "CRTOP_IND_0038 : [0]\n",
      "CRTOU_CCT_PRO_IND_0209 : [0]\n",
      "DATCREENT : [nan]\n",
      "INDPARDCD : [ 0. nan]\n",
      "RATIO1 : [0]\n",
      "RATIO3 : [0]\n",
      "TOP_PRO_ACTIF : ['O']\n",
      "IND_ACTIF : [1]\n",
      "secteur_activite : ['SCI']\n",
      "secteur_activite_bis : ['SCI']\n"
     ]
    }
   ],
   "source": [
    "for col in vars_to_exclude:\n",
    "    print(f\"{col} : {df[col].unique()}\")"
   ]
  },
  {
   "cell_type": "code",
   "execution_count": 12,
   "metadata": {},
   "outputs": [],
   "source": [
    "# Retrait des variables n'apportant aucune information pour la prédiction (car à modalités uniques) et de la variable id_client\n",
    "df.drop(columns=vars_to_exclude + [\"id_client\"] ,inplace=True)\n",
    "# => 59 colonnes"
   ]
  },
  {
   "cell_type": "code",
   "execution_count": 13,
   "metadata": {},
   "outputs": [
    {
     "name": "stdout",
     "output_type": "stream",
     "text": [
      "Database après les modifications \n",
      "<class 'pandas.core.frame.DataFrame'>\n",
      "RangeIndex: 495514 entries, 0 to 495513\n",
      "Data columns (total 48 columns):\n",
      " #   Column                       Non-Null Count   Dtype   \n",
      "---  ------                       --------------   -----   \n",
      " 0   DDefaut_NDB                  495514 non-null  int64   \n",
      " 1   datdelhis                    495514 non-null  int64   \n",
      " 2   AGEPRS                       495514 non-null  int64   \n",
      " 3   ANCIENNETE                   495514 non-null  int64   \n",
      " 4   CODETAJUR                    495514 non-null  int64   \n",
      " 5   CODITDBDF_PRO                495514 non-null  category\n",
      " 6   CODNAF2                      495514 non-null  category\n",
      " 7   CODTYPPRS                    495514 non-null  category\n",
      " 8   CRTAD_AG_MVTAFF_IND_0010     495514 non-null  int64   \n",
      " 9   CRTAD_AG_NBECR_A             495514 non-null  int64   \n",
      " 10  CRTAD_AG_NBECR_B             495514 non-null  int64   \n",
      " 11  CRTAD_AG_NBJDE_BA            495514 non-null  int64   \n",
      " 12  CRTAD_AG_NBJDE_BB            495514 non-null  int64   \n",
      " 13  CRTAD_AG_NBJDE_BC            495514 non-null  int64   \n",
      " 14  CRTAD_AG_SOLDE_IND_0009      495514 non-null  int64   \n",
      " 15  CRTAD_AG_SOLDE_T             495514 non-null  int64   \n",
      " 16  CRTAD_AG_SOLDE_T1            495514 non-null  int64   \n",
      " 17  CRTAD_AG_SOLDE_T2            495514 non-null  int64   \n",
      " 18  CRTAD_AG_SOLDE_T3            495514 non-null  int64   \n",
      " 19  CRTAD_AG_SOLDE_T4            495514 non-null  int64   \n",
      " 20  CRTAD_IND_0015               495514 non-null  int64   \n",
      " 21  CRTAD_IND_0038               495514 non-null  int64   \n",
      " 22  CRTAD_IND_0062               495514 non-null  int64   \n",
      " 23  CRTAD_IND_0205               495514 non-null  int64   \n",
      " 24  CRTAE_AG_SLDEPA              495514 non-null  int64   \n",
      " 25  CRTAR_IND_0036               495514 non-null  int64   \n",
      " 26  CRTOC_AG_LIGCRE_2T_IND_0009  495514 non-null  int64   \n",
      " 27  CRTOC_AG_LIGCRE_IND_0009     495514 non-null  int64   \n",
      " 28  CRTOC_AG_LIGDEB_2T_IND_0015  495514 non-null  int64   \n",
      " 29  CRTOC_AG_LIGDEB_IND_0015     495514 non-null  int64   \n",
      " 30  CRTOC_AG_MVTAFF_2T_IND_0010  495514 non-null  int64   \n",
      " 31  CRTOC_AG_MVTAFF_IND_0010     495514 non-null  int64   \n",
      " 32  CRTOC_AG_NBJCRE_2T_IND_0009  495514 non-null  int64   \n",
      " 33  CRTOC_AG_NBJDEB_2T_IND_0015  495514 non-null  int64   \n",
      " 34  CRTOC_AG_NBJDEB_IND_0015     495514 non-null  int64   \n",
      " 35  CRTOC_IND_0010               495514 non-null  int64   \n",
      " 36  CRTOC_IND_0015               495514 non-null  int64   \n",
      " 37  CRTOC_IND_0164               495514 non-null  int64   \n",
      " 38  CRTOC_IND_0301               495514 non-null  int64   \n",
      " 39  CRTOC_MOY_MVTAFF_IND_0010    495514 non-null  int64   \n",
      " 40  CRTOC_SLD_MOY                495514 non-null  int64   \n",
      " 41  CRTOD_CMT_IND_0036           495514 non-null  int64   \n",
      " 42  DATRLNORG                    495514 non-null  int64   \n",
      " 43  MINSOLDE_PAR                 495514 non-null  int64   \n",
      " 44  NBECR_PAR                    495514 non-null  int64   \n",
      " 45  CRTAD_IND_0042               495514 non-null  int64   \n",
      " 46  CODACVPRO                    495514 non-null  int64   \n",
      " 47  IND_PER_PM                   495514 non-null  category\n",
      "dtypes: category(4), int64(44)\n",
      "memory usage: 168.2 MB\n"
     ]
    }
   ],
   "source": [
    "print(\"Database après les modifications \")\n",
    "df.info()\n",
    "# Jeu de données avec 59 colonnes et 495514 lignes."
   ]
  },
  {
   "cell_type": "markdown",
   "metadata": {},
   "source": [
    "# I. Identification de la variable cible et analyse des variables explicatives\n",
    "\n",
    "## I.1. La variable cible "
   ]
  },
  {
   "cell_type": "code",
   "execution_count": 14,
   "metadata": {},
   "outputs": [
    {
     "name": "stdout",
     "output_type": "stream",
     "text": [
      "Type of target column\n",
      "DDefaut_NDB    int64\n",
      "dtype: object\n"
     ]
    }
   ],
   "source": [
    "cible = \"DDefaut_NDB\"\n",
    "print(\"Type of target column\")\n",
    "print(df[[cible]].dtypes)"
   ]
  },
  {
   "cell_type": "code",
   "execution_count": 15,
   "metadata": {},
   "outputs": [
    {
     "data": {
      "image/png": "[encoded data removed]",
      "text/plain": [
       "<Figure size 800x400 with 1 Axes>"
      ]
     },
     "metadata": {},
     "output_type": "display_data"
    }
   ],
   "source": [
    "# Create the bar plot\n",
    "plt.figure(figsize=(8, 4))\n",
    "plt.bar(df[cible].value_counts().index.astype(str), df[cible].value_counts(normalize=True), color='skyblue')\n",
    "\n",
    "plt.ylabel('Proportion')\n",
    "plt.title('Variable cible')\n",
    "\n",
    "plt.show()"
   ]
  },
  {
   "cell_type": "code",
   "execution_count": 16,
   "metadata": {},
   "outputs": [
    {
     "name": "stdout",
     "output_type": "stream",
     "text": [
      "Nombre de dates :  datdelhis    6\n",
      "dtype: int64\n",
      "Format de date initial:  datdelhis    int64\n",
      "dtype: object\n",
      "Format de date final:  datdelhis    datetime64[ns]\n",
      "dtype: object\n"
     ]
    }
   ],
   "source": [
    "#Transformer le format de date :\n",
    "date = \"datdelhis\"\n",
    "print(\"Nombre de dates : \",df[['datdelhis']].nunique())\n",
    "print(\"Format de date initial: \", df[['datdelhis']].dtypes)\n",
    "\n",
    "\n",
    "df['datdelhis'] = pd.to_datetime(df['datdelhis'], format = '%Y%m')\n",
    "print(\"Format de date final: \", df[['datdelhis']].dtypes)\n"
   ]
  },
  {
   "cell_type": "code",
   "execution_count": 17,
   "metadata": {},
   "outputs": [
    {
     "data": {
      "image/png": "[encoded data removed]",
      "text/plain": [
       "<Figure size 640x480 with 1 Axes>"
      ]
     },
     "metadata": {},
     "output_type": "display_data"
    }
   ],
   "source": [
    "# Evolution de la variable cible dans le temps\n",
    "\n",
    "taux_cible = df.groupby(df['datdelhis'].dt.to_period('M'))['DDefaut_NDB'].mean() # ou sum()\n",
    "\n",
    "# Tracer le taux de la variable cible au fil du temps\n",
    "taux_cible.plot(title='Évolution du taux de défaut dans le temps')\n",
    "plt.xlabel('Date')\n",
    "plt.ylabel('Taux de défaut')\n",
    "plt.ylim(0,0.1)\n",
    "plt.show()"
   ]
  },
  {
   "cell_type": "markdown",
   "metadata": {},
   "source": [
    "## I.2. Construction de la base d'échantillon"
   ]
  },
  {
   "cell_type": "code",
   "execution_count": 18,
   "metadata": {},
   "outputs": [
    {
     "name": "stdout",
     "output_type": "stream",
     "text": [
      "----------------------------------------\n",
      "Nombre de variables ayant une modalité dominante à plus de 99.0% : 3\n",
      "----------------------------------------\n",
      "        Variable  Nb_mod Mod_dominante  Frequence\n",
      "0  CODITDBDF_PRO       2             0   0.996587\n",
      "1      CODTYPPRS       2             2   0.994987\n",
      "2     IND_PER_PM       2            PM   0.994987\n",
      "----------------------------------------\n"
     ]
    }
   ],
   "source": [
    "# Identification des variables catégorielles pouvant générer un biais de sélection dans le modèle\n",
    "# Ces variables n'apportent aucune information pour la prédition de la variable cible car elles ne sont pas discrimantes\n",
    "\n",
    "importlib.reload(functions)\n",
    "df_var_surep = functions.find_uniq_mod_variables(df, pre_categorical_vars, 0.99)\n",
    "var_surep = [col for col in df_var_surep[\"Variable\"] if col not in [\"DDefaut_NDB\"]]\n",
    "\n",
    "# retrait des variables surepresentées \n",
    "pre_categorical_vars = [col for col in pre_categorical_vars if col not in var_surep]"
   ]
  },
  {
   "cell_type": "code",
   "execution_count": 19,
   "metadata": {},
   "outputs": [
    {
     "data": {
      "image/png": "[encoded data removed]",
      "text/plain": [
       "<Figure size 1500x500 with 3 Axes>"
      ]
     },
     "metadata": {},
     "output_type": "display_data"
    }
   ],
   "source": [
    "# Create the bar plot\n",
    "importlib.reload(functions)\n",
    "functions.plot_cat_vars_distributions(df, var_surep,cols=4)"
   ]
  },
  {
   "cell_type": "code",
   "execution_count": 20,
   "metadata": {},
   "outputs": [
    {
     "data": {
      "image/png": "[encoded data removed]",
      "text/plain": [
       "<Figure size 1500x500 with 1 Axes>"
      ]
     },
     "metadata": {},
     "output_type": "display_data"
    }
   ],
   "source": [
    "# Analyse des autres variables catégorielles\n",
    "importlib.reload(functions)\n",
    "functions.plot_cat_vars_distributions(df, [col for col in pre_categorical_vars if col not in var_surep], cols=2)\n",
    "\n",
    "# Il n'y a que la variable CODNAF_2 qui n'a pas de modalité sureprésentée, cependant les classes sont déséquilibrées, il faudrait donc l'utiliser pour la stratification des données"
   ]
  },
  {
   "cell_type": "code",
   "execution_count": 21,
   "metadata": {},
   "outputs": [],
   "source": [
    "## Creation des echantillons train et test \n",
    "\n",
    "# Retrait des mauvaises variables de prédictions (variables ne prenant pratiquement qu'une seule modalité)\n",
    "df_copy = df.copy()\n",
    "X = df_copy.drop(columns = var_surep)\n",
    "y = df_copy[cible]\n",
    "X['stratify_col'] = df_copy[cible].astype(str) + '_' + df_copy['datdelhis'].astype(str) + '_' +  df_copy['CODNAF2'].astype(str) \n",
    "\n",
    "# Split train-test stratifié en utilisant la colonne combinée\n",
    "X_train, X_test, y_train, y_test = train_test_split(\n",
    "    X,  y,\n",
    "    stratify=X['stratify_col'],  # La nouvelle colonne pour la stratification\n",
    "    test_size=0.2,                # La proportion de l'ensemble de test\n",
    "    random_state=42               # La graine pour la reproductibilité\n",
    ")\n"
   ]
  },
  {
   "cell_type": "code",
   "execution_count": 22,
   "metadata": {},
   "outputs": [],
   "source": [
    "# Suppression de la colonne de stratification car non utile pour la suite\n",
    "X_train = X_train.drop(['stratify_col'], axis=1)\n",
    "X_test = X_test.drop(['stratify_col'], axis=1)"
   ]
  },
  {
   "cell_type": "markdown",
   "metadata": {},
   "source": [
    "#### I.2.1 Analyse de la représentativité des variables \n",
    "\n",
    "##### Variables ayant servis à la stratification"
   ]
  },
  {
   "cell_type": "code",
   "execution_count": 23,
   "metadata": {},
   "outputs": [
    {
     "name": "stdout",
     "output_type": "stream",
     "text": [
      "Répartition de la cible dans le train :\n",
      "DDefaut_NDB\n",
      "0    0.980374\n",
      "1    0.019626\n",
      "Name: proportion, dtype: float64\n",
      "\n",
      "Répartition de la cible dans le test :\n",
      "DDefaut_NDB\n",
      "0    0.980374\n",
      "1    0.019626\n",
      "Name: proportion, dtype: float64\n"
     ]
    }
   ],
   "source": [
    "# Vérification de la répartition de la variable cible dans le train et le test\n",
    "\n",
    "print(\"Répartition de la cible dans le train :\")\n",
    "print(y_train.value_counts(normalize=True))\n",
    "\n",
    "print(\"\\nRépartition de la cible dans le test :\")\n",
    "print(y_test.value_counts(normalize=True))\n"
   ]
  },
  {
   "cell_type": "code",
   "execution_count": 24,
   "metadata": {},
   "outputs": [
    {
     "name": "stdout",
     "output_type": "stream",
     "text": [
      "Répartition relative des dates d'observation dans le train :\n",
      "datdelhis\n",
      "2023-06-01    0.168388\n",
      "2023-05-01    0.167720\n",
      "2023-04-01    0.167236\n",
      "2023-03-01    0.166620\n",
      "2023-02-01    0.166040\n",
      "2023-01-01    0.163996\n",
      "Name: proportion, dtype: float64\n",
      "\n",
      "Répartition relative des dates d'observation dans le test :\n",
      "datdelhis\n",
      "2023-06-01    0.168380\n",
      "2023-05-01    0.167704\n",
      "2023-04-01    0.167220\n",
      "2023-03-01    0.166635\n",
      "2023-02-01    0.166049\n",
      "2023-01-01    0.164011\n",
      "Name: proportion, dtype: float64\n"
     ]
    }
   ],
   "source": [
    "#### On verifie que la repartition des elements ayant servis à la stratification est la même dans nos echantillons train et test\n",
    "# Vérification de la répartition des combinaisons dans la colonne de stratification\n",
    "\n",
    "print(\"Répartition relative des dates d'observation dans le train :\")\n",
    "print(X_train['datdelhis'].value_counts(normalize=True))\n",
    "\n",
    "print(\"\\nRépartition relative des dates d'observation dans le test :\")\n",
    "print(X_test['datdelhis'].value_counts(normalize=True))\n",
    "\n"
   ]
  },
  {
   "cell_type": "code",
   "execution_count": 25,
   "metadata": {},
   "outputs": [
    {
     "name": "stdout",
     "output_type": "stream",
     "text": [
      "Répartition relative du secteur d'activité dans le train :\n",
      "CODNAF2\n",
      "6820B    0.803028\n",
      "6820A    0.157569\n",
      "6619A    0.032411\n",
      "6832B    0.006993\n",
      "Name: proportion, dtype: float64\n",
      "\n",
      "Répartition relative du secteur d'activité dans le test :\n",
      "CODNAF2\n",
      "6820B    0.803033\n",
      "6820A    0.157584\n",
      "6619A    0.032401\n",
      "6832B    0.006983\n",
      "Name: proportion, dtype: float64\n"
     ]
    }
   ],
   "source": [
    "print(\"Répartition relative du secteur d'activité dans le train :\")\n",
    "print(X_train['CODNAF2'].value_counts(normalize=True))\n",
    "\n",
    "print(\"\\nRépartition relative du secteur d'activité dans le test :\")\n",
    "print(X_test['CODNAF2'].value_counts(normalize=True))"
   ]
  },
  {
   "cell_type": "markdown",
   "metadata": {},
   "source": [
    "##### Variables continues\n",
    "\n",
    "Analyses visuelles des distributions (KDE)\n"
   ]
  },
  {
   "cell_type": "code",
   "execution_count": 26,
   "metadata": {},
   "outputs": [],
   "source": [
    "#### On peut également s'assurer que la distribution des variables continues est la même dans notre train et dans notre test \n",
    "#### Ce qui pourrait indiquer que notre stratification a capté l'ensemble des variables importantes.\n",
    "\n",
    "### Nous avons donc choisi quelques variables que nous estimions pertinentes pour ce faire\n",
    "\n",
    "# Liste des variables continues à analyser\n",
    "var_a_analyser = ['AGEPRS','ANCIENNETE', 'CRTAD_AG_MVTAFF_IND_0010', 'CRTAD_AG_SOLDE_IND_0009', \n",
    "                       'CRTAR_IND_0036', 'CRTAD_AG_NBJDE_BA', 'CRTAD_IND_0062']\n"
   ]
  },
  {
   "cell_type": "code",
   "execution_count": 27,
   "metadata": {},
   "outputs": [
    {
     "data": {
      "image/png": "[encoded data removed]",
      "text/plain": [
       "<Figure size 1500x1000 with 7 Axes>"
      ]
     },
     "metadata": {},
     "output_type": "display_data"
    }
   ],
   "source": [
    "importlib.reload(functions)\n",
    "functions.compare_distributions_grid(X_train, X_test, var_a_analyser, cols=4)"
   ]
  },
  {
   "cell_type": "markdown",
   "metadata": {},
   "source": [
    "Analyse statistique de la représentativité"
   ]
  },
  {
   "cell_type": "code",
   "execution_count": 28,
   "metadata": {},
   "outputs": [
    {
     "data": {
      "text/html": [
       "<div>\n",
       "<style scoped>\n",
       "    .dataframe tbody tr th:only-of-type {\n",
       "        vertical-align: middle;\n",
       "    }\n",
       "\n",
       "    .dataframe tbody tr th {\n",
       "        vertical-align: top;\n",
       "    }\n",
       "\n",
       "    .dataframe thead th {\n",
       "        text-align: right;\n",
       "    }\n",
       "</style>\n",
       "<table border=\"1\" class=\"dataframe\">\n",
       "  <thead>\n",
       "    <tr style=\"text-align: right;\">\n",
       "      <th></th>\n",
       "      <th>Variable</th>\n",
       "      <th>Train_Mean</th>\n",
       "      <th>Test_Mean</th>\n",
       "      <th>Train_Std</th>\n",
       "      <th>Test_Std</th>\n",
       "      <th>KS_Statistic</th>\n",
       "      <th>KS_p_value</th>\n",
       "      <th>Similar_Distribution</th>\n",
       "    </tr>\n",
       "  </thead>\n",
       "  <tbody>\n",
       "    <tr>\n",
       "      <th>0</th>\n",
       "      <td>AGEPRS</td>\n",
       "      <td>3.003146e-01</td>\n",
       "      <td>3.199096e-01</td>\n",
       "      <td>4.372487e+00</td>\n",
       "      <td>4.545119e+00</td>\n",
       "      <td>0.000391</td>\n",
       "      <td>1.000000</td>\n",
       "      <td>Yes</td>\n",
       "    </tr>\n",
       "    <tr>\n",
       "      <th>1</th>\n",
       "      <td>ANCIENNETE</td>\n",
       "      <td>1.343660e+02</td>\n",
       "      <td>1.346389e+02</td>\n",
       "      <td>1.194232e+02</td>\n",
       "      <td>1.197109e+02</td>\n",
       "      <td>0.002933</td>\n",
       "      <td>0.501854</td>\n",
       "      <td>Yes</td>\n",
       "    </tr>\n",
       "    <tr>\n",
       "      <th>2</th>\n",
       "      <td>CODETAJUR</td>\n",
       "      <td>6.473105e+03</td>\n",
       "      <td>6.472619e+03</td>\n",
       "      <td>4.452317e+02</td>\n",
       "      <td>4.488154e+02</td>\n",
       "      <td>0.001060</td>\n",
       "      <td>0.999992</td>\n",
       "      <td>Yes</td>\n",
       "    </tr>\n",
       "    <tr>\n",
       "      <th>3</th>\n",
       "      <td>CRTAD_AG_MVTAFF_IND_0010</td>\n",
       "      <td>4.796051e+03</td>\n",
       "      <td>4.746626e+03</td>\n",
       "      <td>2.775689e+05</td>\n",
       "      <td>1.924476e+05</td>\n",
       "      <td>0.000174</td>\n",
       "      <td>1.000000</td>\n",
       "      <td>Yes</td>\n",
       "    </tr>\n",
       "    <tr>\n",
       "      <th>4</th>\n",
       "      <td>CRTAD_AG_NBECR_A</td>\n",
       "      <td>5.215597e-01</td>\n",
       "      <td>4.969981e-01</td>\n",
       "      <td>1.045736e+01</td>\n",
       "      <td>9.883302e+00</td>\n",
       "      <td>0.000199</td>\n",
       "      <td>1.000000</td>\n",
       "      <td>Yes</td>\n",
       "    </tr>\n",
       "    <tr>\n",
       "      <th>5</th>\n",
       "      <td>CRTAD_AG_NBECR_B</td>\n",
       "      <td>5.031899e-01</td>\n",
       "      <td>4.819228e-01</td>\n",
       "      <td>1.005405e+01</td>\n",
       "      <td>9.556310e+00</td>\n",
       "      <td>0.000207</td>\n",
       "      <td>1.000000</td>\n",
       "      <td>Yes</td>\n",
       "    </tr>\n",
       "    <tr>\n",
       "      <th>6</th>\n",
       "      <td>CRTAD_AG_NBJDE_BA</td>\n",
       "      <td>2.462520e-01</td>\n",
       "      <td>2.499420e-01</td>\n",
       "      <td>8.516190e+00</td>\n",
       "      <td>8.345475e+00</td>\n",
       "      <td>0.000164</td>\n",
       "      <td>1.000000</td>\n",
       "      <td>Yes</td>\n",
       "    </tr>\n",
       "    <tr>\n",
       "      <th>7</th>\n",
       "      <td>CRTAD_AG_NBJDE_BB</td>\n",
       "      <td>5.144660e-02</td>\n",
       "      <td>5.012966e-02</td>\n",
       "      <td>1.966218e+00</td>\n",
       "      <td>1.900597e+00</td>\n",
       "      <td>0.000053</td>\n",
       "      <td>1.000000</td>\n",
       "      <td>Yes</td>\n",
       "    </tr>\n",
       "    <tr>\n",
       "      <th>8</th>\n",
       "      <td>CRTAD_AG_NBJDE_BC</td>\n",
       "      <td>4.501893e-02</td>\n",
       "      <td>5.076537e-02</td>\n",
       "      <td>1.772380e+00</td>\n",
       "      <td>1.842274e+00</td>\n",
       "      <td>0.000177</td>\n",
       "      <td>1.000000</td>\n",
       "      <td>Yes</td>\n",
       "    </tr>\n",
       "    <tr>\n",
       "      <th>9</th>\n",
       "      <td>CRTAD_AG_SOLDE_IND_0009</td>\n",
       "      <td>1.592789e+04</td>\n",
       "      <td>1.563829e+04</td>\n",
       "      <td>7.595664e+05</td>\n",
       "      <td>6.391658e+05</td>\n",
       "      <td>0.000270</td>\n",
       "      <td>1.000000</td>\n",
       "      <td>Yes</td>\n",
       "    </tr>\n",
       "    <tr>\n",
       "      <th>10</th>\n",
       "      <td>CRTAD_AG_SOLDE_T</td>\n",
       "      <td>1.314411e+04</td>\n",
       "      <td>1.200085e+04</td>\n",
       "      <td>7.323548e+05</td>\n",
       "      <td>4.974518e+05</td>\n",
       "      <td>0.000303</td>\n",
       "      <td>1.000000</td>\n",
       "      <td>Yes</td>\n",
       "    </tr>\n",
       "    <tr>\n",
       "      <th>11</th>\n",
       "      <td>CRTAD_AG_SOLDE_T1</td>\n",
       "      <td>1.590662e+04</td>\n",
       "      <td>1.426807e+04</td>\n",
       "      <td>1.048700e+06</td>\n",
       "      <td>8.505446e+05</td>\n",
       "      <td>0.000232</td>\n",
       "      <td>1.000000</td>\n",
       "      <td>Yes</td>\n",
       "    </tr>\n",
       "    <tr>\n",
       "      <th>12</th>\n",
       "      <td>CRTAD_AG_SOLDE_T2</td>\n",
       "      <td>1.691095e+04</td>\n",
       "      <td>1.472847e+04</td>\n",
       "      <td>1.226700e+06</td>\n",
       "      <td>9.995192e+05</td>\n",
       "      <td>0.000267</td>\n",
       "      <td>1.000000</td>\n",
       "      <td>Yes</td>\n",
       "    </tr>\n",
       "    <tr>\n",
       "      <th>13</th>\n",
       "      <td>CRTAD_AG_SOLDE_T3</td>\n",
       "      <td>1.607450e+04</td>\n",
       "      <td>1.480707e+04</td>\n",
       "      <td>1.109897e+06</td>\n",
       "      <td>1.165937e+06</td>\n",
       "      <td>0.000225</td>\n",
       "      <td>1.000000</td>\n",
       "      <td>Yes</td>\n",
       "    </tr>\n",
       "    <tr>\n",
       "      <th>14</th>\n",
       "      <td>CRTAD_AG_SOLDE_T4</td>\n",
       "      <td>1.774348e+04</td>\n",
       "      <td>1.483747e+04</td>\n",
       "      <td>1.293531e+06</td>\n",
       "      <td>8.170068e+05</td>\n",
       "      <td>0.000189</td>\n",
       "      <td>1.000000</td>\n",
       "      <td>Yes</td>\n",
       "    </tr>\n",
       "    <tr>\n",
       "      <th>15</th>\n",
       "      <td>CRTAD_IND_0015</td>\n",
       "      <td>1.718923e-02</td>\n",
       "      <td>1.602373e-02</td>\n",
       "      <td>7.112932e-01</td>\n",
       "      <td>6.477915e-01</td>\n",
       "      <td>0.000081</td>\n",
       "      <td>1.000000</td>\n",
       "      <td>Yes</td>\n",
       "    </tr>\n",
       "    <tr>\n",
       "      <th>16</th>\n",
       "      <td>CRTAD_IND_0038</td>\n",
       "      <td>1.576630e+04</td>\n",
       "      <td>1.523639e+04</td>\n",
       "      <td>7.590272e+05</td>\n",
       "      <td>6.433280e+05</td>\n",
       "      <td>0.000242</td>\n",
       "      <td>1.000000</td>\n",
       "      <td>Yes</td>\n",
       "    </tr>\n",
       "    <tr>\n",
       "      <th>17</th>\n",
       "      <td>CRTAD_IND_0062</td>\n",
       "      <td>2.177286e+01</td>\n",
       "      <td>6.054307e-01</td>\n",
       "      <td>5.377152e+03</td>\n",
       "      <td>1.905934e+02</td>\n",
       "      <td>0.000020</td>\n",
       "      <td>1.000000</td>\n",
       "      <td>Yes</td>\n",
       "    </tr>\n",
       "    <tr>\n",
       "      <th>18</th>\n",
       "      <td>CRTAD_IND_0205</td>\n",
       "      <td>1.195055e+04</td>\n",
       "      <td>1.252218e+04</td>\n",
       "      <td>1.652881e+06</td>\n",
       "      <td>1.507979e+06</td>\n",
       "      <td>0.000108</td>\n",
       "      <td>1.000000</td>\n",
       "      <td>Yes</td>\n",
       "    </tr>\n",
       "    <tr>\n",
       "      <th>19</th>\n",
       "      <td>CRTAE_AG_SLDEPA</td>\n",
       "      <td>1.744767e+04</td>\n",
       "      <td>9.907517e+03</td>\n",
       "      <td>1.555260e+06</td>\n",
       "      <td>3.024334e+05</td>\n",
       "      <td>0.000187</td>\n",
       "      <td>1.000000</td>\n",
       "      <td>Yes</td>\n",
       "    </tr>\n",
       "    <tr>\n",
       "      <th>20</th>\n",
       "      <td>CRTAR_IND_0036</td>\n",
       "      <td>1.693620e+03</td>\n",
       "      <td>2.774337e+03</td>\n",
       "      <td>1.185569e+05</td>\n",
       "      <td>2.275553e+05</td>\n",
       "      <td>0.000073</td>\n",
       "      <td>1.000000</td>\n",
       "      <td>Yes</td>\n",
       "    </tr>\n",
       "    <tr>\n",
       "      <th>21</th>\n",
       "      <td>CRTOC_AG_LIGCRE_2T_IND_0009</td>\n",
       "      <td>4.131702e+08</td>\n",
       "      <td>4.130053e+08</td>\n",
       "      <td>2.151675e+09</td>\n",
       "      <td>2.237062e+09</td>\n",
       "      <td>0.003086</td>\n",
       "      <td>0.435995</td>\n",
       "      <td>Yes</td>\n",
       "    </tr>\n",
       "    <tr>\n",
       "      <th>22</th>\n",
       "      <td>CRTOC_AG_LIGCRE_IND_0009</td>\n",
       "      <td>6.726097e+07</td>\n",
       "      <td>6.744714e+07</td>\n",
       "      <td>3.537275e+08</td>\n",
       "      <td>3.646693e+08</td>\n",
       "      <td>0.003278</td>\n",
       "      <td>0.360938</td>\n",
       "      <td>Yes</td>\n",
       "    </tr>\n",
       "    <tr>\n",
       "      <th>23</th>\n",
       "      <td>CRTOC_AG_LIGDEB_2T_IND_0015</td>\n",
       "      <td>-6.607803e+06</td>\n",
       "      <td>-6.759584e+06</td>\n",
       "      <td>5.774626e+08</td>\n",
       "      <td>6.135666e+08</td>\n",
       "      <td>0.003368</td>\n",
       "      <td>0.328787</td>\n",
       "      <td>Yes</td>\n",
       "    </tr>\n",
       "    <tr>\n",
       "      <th>24</th>\n",
       "      <td>CRTOC_AG_LIGDEB_IND_0015</td>\n",
       "      <td>-1.128335e+06</td>\n",
       "      <td>-1.066801e+06</td>\n",
       "      <td>9.676833e+07</td>\n",
       "      <td>9.419566e+07</td>\n",
       "      <td>0.003969</td>\n",
       "      <td>0.164079</td>\n",
       "      <td>Yes</td>\n",
       "    </tr>\n",
       "    <tr>\n",
       "      <th>25</th>\n",
       "      <td>CRTOC_AG_MVTAFF_2T_IND_0010</td>\n",
       "      <td>1.932148e+06</td>\n",
       "      <td>1.936482e+06</td>\n",
       "      <td>1.336921e+07</td>\n",
       "      <td>1.486490e+07</td>\n",
       "      <td>0.004329</td>\n",
       "      <td>0.102077</td>\n",
       "      <td>Yes</td>\n",
       "    </tr>\n",
       "    <tr>\n",
       "      <th>26</th>\n",
       "      <td>CRTOC_AG_MVTAFF_IND_0010</td>\n",
       "      <td>6.159848e+05</td>\n",
       "      <td>6.089469e+05</td>\n",
       "      <td>3.306958e+06</td>\n",
       "      <td>3.312580e+06</td>\n",
       "      <td>0.002887</td>\n",
       "      <td>0.522336</td>\n",
       "      <td>Yes</td>\n",
       "    </tr>\n",
       "    <tr>\n",
       "      <th>27</th>\n",
       "      <td>CRTOC_AG_NBJCRE_2T_IND_0009</td>\n",
       "      <td>1.666186e+02</td>\n",
       "      <td>1.666660e+02</td>\n",
       "      <td>4.725412e+01</td>\n",
       "      <td>4.726820e+01</td>\n",
       "      <td>0.001116</td>\n",
       "      <td>0.999969</td>\n",
       "      <td>Yes</td>\n",
       "    </tr>\n",
       "    <tr>\n",
       "      <th>28</th>\n",
       "      <td>CRTOC_AG_NBJDEB_2T_IND_0015</td>\n",
       "      <td>7.176723e+00</td>\n",
       "      <td>6.990596e+00</td>\n",
       "      <td>2.518423e+01</td>\n",
       "      <td>2.478034e+01</td>\n",
       "      <td>0.003040</td>\n",
       "      <td>0.455300</td>\n",
       "      <td>Yes</td>\n",
       "    </tr>\n",
       "    <tr>\n",
       "      <th>29</th>\n",
       "      <td>CRTOC_AG_NBJDEB_IND_0015</td>\n",
       "      <td>3.709208e+00</td>\n",
       "      <td>3.617317e+00</td>\n",
       "      <td>1.375156e+01</td>\n",
       "      <td>1.356602e+01</td>\n",
       "      <td>0.003101</td>\n",
       "      <td>0.430132</td>\n",
       "      <td>Yes</td>\n",
       "    </tr>\n",
       "    <tr>\n",
       "      <th>30</th>\n",
       "      <td>CRTOC_IND_0010</td>\n",
       "      <td>6.532117e+05</td>\n",
       "      <td>6.773990e+05</td>\n",
       "      <td>9.589267e+06</td>\n",
       "      <td>1.360240e+07</td>\n",
       "      <td>0.003994</td>\n",
       "      <td>0.158819</td>\n",
       "      <td>Yes</td>\n",
       "    </tr>\n",
       "    <tr>\n",
       "      <th>31</th>\n",
       "      <td>CRTOC_IND_0015</td>\n",
       "      <td>1.253570e+00</td>\n",
       "      <td>1.221315e+00</td>\n",
       "      <td>5.185692e+00</td>\n",
       "      <td>5.102718e+00</td>\n",
       "      <td>0.001456</td>\n",
       "      <td>0.995962</td>\n",
       "      <td>Yes</td>\n",
       "    </tr>\n",
       "    <tr>\n",
       "      <th>32</th>\n",
       "      <td>CRTOC_IND_0164</td>\n",
       "      <td>2.177885e+06</td>\n",
       "      <td>2.177554e+06</td>\n",
       "      <td>1.378869e+07</td>\n",
       "      <td>1.440138e+07</td>\n",
       "      <td>0.003230</td>\n",
       "      <td>0.379052</td>\n",
       "      <td>Yes</td>\n",
       "    </tr>\n",
       "    <tr>\n",
       "      <th>33</th>\n",
       "      <td>CRTOC_IND_0301</td>\n",
       "      <td>3.073578e-01</td>\n",
       "      <td>3.004248e-01</td>\n",
       "      <td>4.429254e+00</td>\n",
       "      <td>4.370463e+00</td>\n",
       "      <td>0.000169</td>\n",
       "      <td>1.000000</td>\n",
       "      <td>Yes</td>\n",
       "    </tr>\n",
       "    <tr>\n",
       "      <th>34</th>\n",
       "      <td>CRTOC_MOY_MVTAFF_IND_0010</td>\n",
       "      <td>6.270309e+05</td>\n",
       "      <td>6.646430e+05</td>\n",
       "      <td>7.575761e+06</td>\n",
       "      <td>1.355509e+07</td>\n",
       "      <td>0.004103</td>\n",
       "      <td>0.138183</td>\n",
       "      <td>Yes</td>\n",
       "    </tr>\n",
       "    <tr>\n",
       "      <th>35</th>\n",
       "      <td>CRTOC_SLD_MOY</td>\n",
       "      <td>2.264964e+06</td>\n",
       "      <td>2.266167e+06</td>\n",
       "      <td>1.163393e+07</td>\n",
       "      <td>1.210467e+07</td>\n",
       "      <td>0.002814</td>\n",
       "      <td>0.555783</td>\n",
       "      <td>Yes</td>\n",
       "    </tr>\n",
       "    <tr>\n",
       "      <th>36</th>\n",
       "      <td>CRTOD_CMT_IND_0036</td>\n",
       "      <td>2.833053e+05</td>\n",
       "      <td>3.026729e+05</td>\n",
       "      <td>5.881058e+06</td>\n",
       "      <td>7.080056e+06</td>\n",
       "      <td>0.001019</td>\n",
       "      <td>0.999997</td>\n",
       "      <td>Yes</td>\n",
       "    </tr>\n",
       "    <tr>\n",
       "      <th>37</th>\n",
       "      <td>DATRLNORG</td>\n",
       "      <td>2.011725e+07</td>\n",
       "      <td>2.011706e+07</td>\n",
       "      <td>9.813836e+04</td>\n",
       "      <td>9.832439e+04</td>\n",
       "      <td>0.003062</td>\n",
       "      <td>0.446339</td>\n",
       "      <td>Yes</td>\n",
       "    </tr>\n",
       "    <tr>\n",
       "      <th>38</th>\n",
       "      <td>MINSOLDE_PAR</td>\n",
       "      <td>7.422417e+03</td>\n",
       "      <td>7.312994e+03</td>\n",
       "      <td>3.705198e+05</td>\n",
       "      <td>3.708041e+05</td>\n",
       "      <td>0.000240</td>\n",
       "      <td>1.000000</td>\n",
       "      <td>Yes</td>\n",
       "    </tr>\n",
       "    <tr>\n",
       "      <th>39</th>\n",
       "      <td>NBECR_PAR</td>\n",
       "      <td>-1.059506e-02</td>\n",
       "      <td>-1.574120e-03</td>\n",
       "      <td>3.827241e+00</td>\n",
       "      <td>3.757102e+00</td>\n",
       "      <td>0.000146</td>\n",
       "      <td>1.000000</td>\n",
       "      <td>Yes</td>\n",
       "    </tr>\n",
       "    <tr>\n",
       "      <th>40</th>\n",
       "      <td>CRTAD_IND_0042</td>\n",
       "      <td>1.733832e-01</td>\n",
       "      <td>1.662210e-01</td>\n",
       "      <td>3.515148e+00</td>\n",
       "      <td>3.358073e+00</td>\n",
       "      <td>0.000174</td>\n",
       "      <td>1.000000</td>\n",
       "      <td>Yes</td>\n",
       "    </tr>\n",
       "    <tr>\n",
       "      <th>41</th>\n",
       "      <td>CODACVPRO</td>\n",
       "      <td>2.048753e+01</td>\n",
       "      <td>2.148855e+01</td>\n",
       "      <td>3.287324e+02</td>\n",
       "      <td>3.361140e+02</td>\n",
       "      <td>0.000262</td>\n",
       "      <td>1.000000</td>\n",
       "      <td>Yes</td>\n",
       "    </tr>\n",
       "  </tbody>\n",
       "</table>\n",
       "</div>"
      ],
      "text/plain": [
       "                       Variable    Train_Mean     Test_Mean     Train_Std  \\\n",
       "0                        AGEPRS  3.003146e-01  3.199096e-01  4.372487e+00   \n",
       "1                    ANCIENNETE  1.343660e+02  1.346389e+02  1.194232e+02   \n",
       "2                     CODETAJUR  6.473105e+03  6.472619e+03  4.452317e+02   \n",
       "3      CRTAD_AG_MVTAFF_IND_0010  4.796051e+03  4.746626e+03  2.775689e+05   \n",
       "4              CRTAD_AG_NBECR_A  5.215597e-01  4.969981e-01  1.045736e+01   \n",
       "5              CRTAD_AG_NBECR_B  5.031899e-01  4.819228e-01  1.005405e+01   \n",
       "6             CRTAD_AG_NBJDE_BA  2.462520e-01  2.499420e-01  8.516190e+00   \n",
       "7             CRTAD_AG_NBJDE_BB  5.144660e-02  5.012966e-02  1.966218e+00   \n",
       "8             CRTAD_AG_NBJDE_BC  4.501893e-02  5.076537e-02  1.772380e+00   \n",
       "9       CRTAD_AG_SOLDE_IND_0009  1.592789e+04  1.563829e+04  7.595664e+05   \n",
       "10             CRTAD_AG_SOLDE_T  1.314411e+04  1.200085e+04  7.323548e+05   \n",
       "11            CRTAD_AG_SOLDE_T1  1.590662e+04  1.426807e+04  1.048700e+06   \n",
       "12            CRTAD_AG_SOLDE_T2  1.691095e+04  1.472847e+04  1.226700e+06   \n",
       "13            CRTAD_AG_SOLDE_T3  1.607450e+04  1.480707e+04  1.109897e+06   \n",
       "14            CRTAD_AG_SOLDE_T4  1.774348e+04  1.483747e+04  1.293531e+06   \n",
       "15               CRTAD_IND_0015  1.718923e-02  1.602373e-02  7.112932e-01   \n",
       "16               CRTAD_IND_0038  1.576630e+04  1.523639e+04  7.590272e+05   \n",
       "17               CRTAD_IND_0062  2.177286e+01  6.054307e-01  5.377152e+03   \n",
       "18               CRTAD_IND_0205  1.195055e+04  1.252218e+04  1.652881e+06   \n",
       "19              CRTAE_AG_SLDEPA  1.744767e+04  9.907517e+03  1.555260e+06   \n",
       "20               CRTAR_IND_0036  1.693620e+03  2.774337e+03  1.185569e+05   \n",
       "21  CRTOC_AG_LIGCRE_2T_IND_0009  4.131702e+08  4.130053e+08  2.151675e+09   \n",
       "22     CRTOC_AG_LIGCRE_IND_0009  6.726097e+07  6.744714e+07  3.537275e+08   \n",
       "23  CRTOC_AG_LIGDEB_2T_IND_0015 -6.607803e+06 -6.759584e+06  5.774626e+08   \n",
       "24     CRTOC_AG_LIGDEB_IND_0015 -1.128335e+06 -1.066801e+06  9.676833e+07   \n",
       "25  CRTOC_AG_MVTAFF_2T_IND_0010  1.932148e+06  1.936482e+06  1.336921e+07   \n",
       "26     CRTOC_AG_MVTAFF_IND_0010  6.159848e+05  6.089469e+05  3.306958e+06   \n",
       "27  CRTOC_AG_NBJCRE_2T_IND_0009  1.666186e+02  1.666660e+02  4.725412e+01   \n",
       "28  CRTOC_AG_NBJDEB_2T_IND_0015  7.176723e+00  6.990596e+00  2.518423e+01   \n",
       "29     CRTOC_AG_NBJDEB_IND_0015  3.709208e+00  3.617317e+00  1.375156e+01   \n",
       "30               CRTOC_IND_0010  6.532117e+05  6.773990e+05  9.589267e+06   \n",
       "31               CRTOC_IND_0015  1.253570e+00  1.221315e+00  5.185692e+00   \n",
       "32               CRTOC_IND_0164  2.177885e+06  2.177554e+06  1.378869e+07   \n",
       "33               CRTOC_IND_0301  3.073578e-01  3.004248e-01  4.429254e+00   \n",
       "34    CRTOC_MOY_MVTAFF_IND_0010  6.270309e+05  6.646430e+05  7.575761e+06   \n",
       "35                CRTOC_SLD_MOY  2.264964e+06  2.266167e+06  1.163393e+07   \n",
       "36           CRTOD_CMT_IND_0036  2.833053e+05  3.026729e+05  5.881058e+06   \n",
       "37                    DATRLNORG  2.011725e+07  2.011706e+07  9.813836e+04   \n",
       "38                 MINSOLDE_PAR  7.422417e+03  7.312994e+03  3.705198e+05   \n",
       "39                    NBECR_PAR -1.059506e-02 -1.574120e-03  3.827241e+00   \n",
       "40               CRTAD_IND_0042  1.733832e-01  1.662210e-01  3.515148e+00   \n",
       "41                    CODACVPRO  2.048753e+01  2.148855e+01  3.287324e+02   \n",
       "\n",
       "        Test_Std  KS_Statistic  KS_p_value Similar_Distribution  \n",
       "0   4.545119e+00      0.000391    1.000000                  Yes  \n",
       "1   1.197109e+02      0.002933    0.501854                  Yes  \n",
       "2   4.488154e+02      0.001060    0.999992                  Yes  \n",
       "3   1.924476e+05      0.000174    1.000000                  Yes  \n",
       "4   9.883302e+00      0.000199    1.000000                  Yes  \n",
       "5   9.556310e+00      0.000207    1.000000                  Yes  \n",
       "6   8.345475e+00      0.000164    1.000000                  Yes  \n",
       "7   1.900597e+00      0.000053    1.000000                  Yes  \n",
       "8   1.842274e+00      0.000177    1.000000                  Yes  \n",
       "9   6.391658e+05      0.000270    1.000000                  Yes  \n",
       "10  4.974518e+05      0.000303    1.000000                  Yes  \n",
       "11  8.505446e+05      0.000232    1.000000                  Yes  \n",
       "12  9.995192e+05      0.000267    1.000000                  Yes  \n",
       "13  1.165937e+06      0.000225    1.000000                  Yes  \n",
       "14  8.170068e+05      0.000189    1.000000                  Yes  \n",
       "15  6.477915e-01      0.000081    1.000000                  Yes  \n",
       "16  6.433280e+05      0.000242    1.000000                  Yes  \n",
       "17  1.905934e+02      0.000020    1.000000                  Yes  \n",
       "18  1.507979e+06      0.000108    1.000000                  Yes  \n",
       "19  3.024334e+05      0.000187    1.000000                  Yes  \n",
       "20  2.275553e+05      0.000073    1.000000                  Yes  \n",
       "21  2.237062e+09      0.003086    0.435995                  Yes  \n",
       "22  3.646693e+08      0.003278    0.360938                  Yes  \n",
       "23  6.135666e+08      0.003368    0.328787                  Yes  \n",
       "24  9.419566e+07      0.003969    0.164079                  Yes  \n",
       "25  1.486490e+07      0.004329    0.102077                  Yes  \n",
       "26  3.312580e+06      0.002887    0.522336                  Yes  \n",
       "27  4.726820e+01      0.001116    0.999969                  Yes  \n",
       "28  2.478034e+01      0.003040    0.455300                  Yes  \n",
       "29  1.356602e+01      0.003101    0.430132                  Yes  \n",
       "30  1.360240e+07      0.003994    0.158819                  Yes  \n",
       "31  5.102718e+00      0.001456    0.995962                  Yes  \n",
       "32  1.440138e+07      0.003230    0.379052                  Yes  \n",
       "33  4.370463e+00      0.000169    1.000000                  Yes  \n",
       "34  1.355509e+07      0.004103    0.138183                  Yes  \n",
       "35  1.210467e+07      0.002814    0.555783                  Yes  \n",
       "36  7.080056e+06      0.001019    0.999997                  Yes  \n",
       "37  9.832439e+04      0.003062    0.446339                  Yes  \n",
       "38  3.708041e+05      0.000240    1.000000                  Yes  \n",
       "39  3.757102e+00      0.000146    1.000000                  Yes  \n",
       "40  3.358073e+00      0.000174    1.000000                  Yes  \n",
       "41  3.361140e+02      0.000262    1.000000                  Yes  "
      ]
     },
     "execution_count": 28,
     "metadata": {},
     "output_type": "execute_result"
    }
   ],
   "source": [
    "importlib.reload(functions)\n",
    "functions.compare_distributions_summary(X_train, X_test, pre_cont_vars)\n",
    "\n",
    "# Les distributions des variables continues sont similaires dans les échantillons train et test"
   ]
  },
  {
   "cell_type": "code",
   "execution_count": 29,
   "metadata": {},
   "outputs": [],
   "source": [
    "# Comparer la distribution de chaque variable continue dans le train et le test\n",
    "\n",
    "\n",
    "# # Comparer la distribution de chaque variable continue dans le train et le test\n",
    "# for var in var_a_analyser:\n",
    "#     # Calcul des statistiques descriptives pour train et test\n",
    "#     print(f\"Statistiques descriptives de {var} dans le train :\")\n",
    "#     print(X_train[var].describe())\n",
    "#     print(f\"\\nStatistiques descriptives de {var} dans le test :\")\n",
    "#     print(X_test[var].describe())\n",
    "    \n",
    "#     # Test de Kolmogorov-Smirnov pour vérifier si les distributions sont similaires\n",
    "#     ks_stat, ks_p_value = stats.ks_2samp(X_train[var], X_test[var])\n",
    "#     print(f\"\\nTest de Kolmogorov-Smirnov pour {var}: p-value = {ks_p_value}\")\n",
    "#     if ks_p_value > 0.05:\n",
    "#         print(\"Les distributions sont similaires (p-value > 0.05).\")\n",
    "#     else:\n",
    "#         print(\"Les distributions ne sont pas similaires (p-value < 0.05).\")\n",
    "#     print(\"\\n\" + \"-\"*50)\n"
   ]
  },
  {
   "cell_type": "markdown",
   "metadata": {},
   "source": [
    "## I.3. Création de nouveaux indicateurs et pré-sélection des variables candidates à l’explication de la variable cible\n",
    "\n",
    "#### I.3.1 Pré-selection des variables\n",
    "On s'assure que nos données soient fiables, homogènes dans le temps et cohérentes.\n",
    "##### Fiabilité"
   ]
  },
  {
   "cell_type": "code",
   "execution_count": 30,
   "metadata": {},
   "outputs": [
    {
     "name": "stdout",
     "output_type": "stream",
     "text": [
      "Nombre de colonnes avec des valeurs manquantes : 0\n"
     ]
    }
   ],
   "source": [
    "### Fiables\n",
    "# Calculer le taux de valeurs manquantes (en pourcentage) pour chaque colonne\n",
    "missing_percentages = X_train.isna().mean() * 100\n",
    "\n",
    "# Filtrer uniquement les colonnes avec des valeurs manquantes\n",
    "missing_columns = missing_percentages[missing_percentages > 0]\n",
    "\n",
    "# Afficher le nombre de colonnes avec des valeurs manquantes\n",
    "print(f\"Nombre de colonnes avec des valeurs manquantes : {len(missing_columns)}\")\n",
    "\n",
    "# Afficher le taux de valeurs manquantes uniquement pour ces colonnes\n",
    "if len(missing_columns) > 0:\n",
    "    print(\"\\nTaux de valeurs manquantes par colonne (%):\")\n",
    "    print(missing_columns)\n"
   ]
  },
  {
   "cell_type": "markdown",
   "metadata": {},
   "source": [
    "On éludera le traitement des outliers ici vu que l'on segmentera nos données plustard"
   ]
  },
  {
   "cell_type": "markdown",
   "metadata": {},
   "source": [
    "##### Homogenéité temporelle\n",
    "\n",
    "Verifions que nos données catégorielles sont homogènes dans le temps, qu'il n'y a pas apparition et disparition  d'une modalité par exemple\n"
   ]
  },
  {
   "cell_type": "code",
   "execution_count": 31,
   "metadata": {},
   "outputs": [
    {
     "data": {
      "image/png": "[encoded data removed]",
      "text/plain": [
       "<Figure size 1500x500 with 1 Axes>"
      ]
     },
     "metadata": {},
     "output_type": "display_data"
    }
   ],
   "source": [
    "importlib.reload(functions)\n",
    "functions.plot_modalities_over_time(X_train, \"datdelhis\", pre_categorical_vars)"
   ]
  },
  {
   "cell_type": "code",
   "execution_count": 32,
   "metadata": {},
   "outputs": [],
   "source": [
    "\n",
    "\n",
    "# # Créer un DataFrame vide pour stocker les informations pour la visualisation\n",
    "# modalities_over_time = []\n",
    "# categorical_vars = [ col for col in categorical_vars if col not in [\"DDefaut_NDB\", \"datdelhis\"]+var_surep]\n",
    "\n",
    "# # Itérer sur les dates d'observation dans la colonne 'datdelhis'\n",
    "# for date in X_train['datdelhis'].unique():\n",
    "#     # Filtrer les données pour la date spécifique\n",
    "#     filtered_data = X_train[X_train['datdelhis'] == date]\n",
    "    \n",
    "#     # Boucle sur chaque colonne catégorielle\n",
    "#     for col in categorical_vars:\n",
    "#         # Compter les modalités uniques pour cette date et colonne\n",
    "#         modalities = filtered_data[col].unique()  # Valeurs distinctes des modalités\n",
    "#         modalities_count = len(modalities)  # Compter le nombre de modalités uniques\n",
    "        \n",
    "#         # Ajouter les résultats à la liste\n",
    "#         modalities_over_time.append({\n",
    "#             'date': date,\n",
    "#             'variable': col,\n",
    "#             'modalities_count': modalities_count\n",
    "#         })\n",
    "\n",
    "# # Convertir la liste en DataFrame pour faciliter la visualisation\n",
    "# modalities_df = pd.DataFrame(modalities_over_time)\n",
    "\n",
    "# # Affichage des modalités par date et variable\n",
    "# plt.figure(figsize=(12, 6))\n",
    "# sns.lineplot(data=modalities_df, x='date', y='modalities_count', hue='variable', marker='o')\n",
    "\n",
    "# # Améliorer l'apparence du graphique\n",
    "# plt.title(\"Évolution du nombre de modalités uniques par variable au fil du temps\")\n",
    "# plt.xlabel(\"Date d'observation\")\n",
    "# plt.ylabel(\"Nombre de modalités uniques\")\n",
    "# plt.xticks(rotation=45)  # Rotation des dates pour une meilleure lisibilité\n",
    "# plt.legend(title=\"Variables\", bbox_to_anchor=(1.05, 1), loc='upper left')\n",
    "# plt.tight_layout()\n",
    "\n",
    "# # Afficher le graphique\n",
    "# plt.show()\n"
   ]
  },
  {
   "cell_type": "markdown",
   "metadata": {},
   "source": [
    "##### Cohérences et pertinences des variables\n",
    "On s'assure de la cohérence et de la pertinence des variables de notre base. Toues les variables sont pertinentes. Au niveau de l'ancienneté, il est possible d'avoir des sociétés avec 12 ans d'ancienneté."
   ]
  },
  {
   "cell_type": "code",
   "execution_count": 33,
   "metadata": {},
   "outputs": [],
   "source": [
    "# # Calcul des statistiques descriptives pour la colonne 'ANCIENNETE'\n",
    "# anciennete_stats = X_train['ANCIENNETE'].describe()\n",
    "\n",
    "# # Affichage des statistiques descriptives\n",
    "# print(\"Statistiques descriptives de la colonne 'ANCIENNETE' :\")\n",
    "# print(anciennete_stats)"
   ]
  },
  {
   "cell_type": "markdown",
   "metadata": {},
   "source": [
    "#### I.3.2 Creation de nouveaux indicateurs"
   ]
  },
  {
   "cell_type": "code",
   "execution_count": 34,
   "metadata": {},
   "outputs": [],
   "source": [
    "X_train['SECTNAF'] = X_train['CODNAF2'].str[-1]  ### On regroupe les seceurs d'activité en deux\n",
    "#df[\"ANCENT\"]= df['datdelhis'].dt.month - df['DATCREENT'].dt.month  ### On cree une nouvelle variable pour l'ancienneté de la SCI\n",
    "\n",
    "categorical_vars = pre_categorical_vars + ['SECTNAF']\n",
    "## cet indicateur ne pourra pas être calculé anyway"
   ]
  },
  {
   "cell_type": "code",
   "execution_count": null,
   "metadata": {},
   "outputs": [],
   "source": [
    "#### Creation des indicateurs , ratios entre les indicateurs financiers courant et ceux d'il y a un an\n",
    "\n",
    "## Creer de nouvelles variables dans notre dataframe df correspondant aux ratios entre les deux variables\n",
    "X_train['ratio_NBECR'] = X_train['CRTAD_AG_NBECR_A'] / X_train['CRTAD_AG_NBECR_B']\n",
    "X_train['ratio_NBJDE'] = X_train['CRTAD_AG_NBJDE_BB'] / X_train['CRTAD_AG_NBJDE_BC']\n",
    "\n",
    "\n",
    "# Création des indicateurs, faisant le ratio entre les operations débirices courantes et antérieurs sur les opetations creditrices courantes et anterieures\n",
    "X_train['r_line_deb_cr'] = X_train['CRTOC_AG_LIGDEB_2T_IND_0015']/X_train['CRTOC_AG_LIGCRE_2T_IND_0009']\n",
    "#df['r_moy_12_line_deb_cr'] = df['CRTOC_AG_LIGDEB_IND_0015']/df['CCRTOC_AG_LIGCRE_IND_0009']\n",
    "X_train['r_ma_deb'] = X_train['CRTOC_IND_0010']/X_train['CRTOC_IND_0015']\n",
    "\n",
    "\n",
    "cont_vars = pre_cont_vars + ['ratio_NBECR', 'ratio_NBJDE', 'r_line_deb_cr', 'r_ma_deb']"
   ]
  },
  {
   "cell_type": "code",
   "execution_count": null,
   "metadata": {},
   "outputs": [],
   "source": [
    "# #### On construit une nouvelle variable matérialisant l'ancienneté de la relation entre la SCI et la LCL\n",
    "# #### mais cette fois exprimée en mois\n",
    "\n",
    "# # Conversion de l'ancienneté (en jours) en mois (approximativement 30 jours par mois)\n",
    "# X_train['ANCIENNETE_MOIS'] = df['ANCIENNETE'] / 30\n",
    "# X_train['ANCIENNETE_MOIS'].describe()\n",
    "\n",
    "# cont_vars = pre_cont_vars + ['ANCIENNETE_MOIS']"
   ]
  },
  {
   "cell_type": "markdown",
   "metadata": {},
   "source": [
    "# II- Selection des variables"
   ]
  },
  {
   "cell_type": "markdown",
   "metadata": {},
   "source": [
    "Les variables catégorielles ont déja été traitées dans la partie précédente (au niveau de la stratification de la base)"
   ]
  },
  {
   "cell_type": "code",
   "execution_count": null,
   "metadata": {},
   "outputs": [],
   "source": [
    "cont_vars = pre_cont_vars \n",
    "print(cont_vars)\n",
    "print(categorical_vars)"
   ]
  },
  {
   "cell_type": "markdown",
   "metadata": {},
   "source": [
    "### II.1. Variables catégorielles\n",
    "#### II.1.1 Statistiques descriptives pour les variables catégorielles"
   ]
  },
  {
   "cell_type": "code",
   "execution_count": null,
   "metadata": {},
   "outputs": [],
   "source": [
    "importlib.reload(functions)\n",
    "functions.plot_modalities_over_time(X_train, \"datdelhis\", categorical_vars)\n",
    "functions.plot_cat_vars_distributions(X_train, categorical_vars, cols=2)\n",
    "functions.tx_rsq_par_var(X_train,categorical_vars,date,cible)\n",
    "functions.combined_barplot_lineplot(X_train, categorical_vars, cible)\n"
   ]
  },
  {
   "cell_type": "markdown",
   "metadata": {},
   "source": [
    "On peut voir que le taux de défaut dans le temps est constant dans le temps selon le secteur d'activité. Le secteur d'activité B ( Locations de biens non-résidentiels) est plus risqué que le secteur d'activité A ( Locations de biens résidentiels). De plus, au sein même du secteur d'activité B, le taux de défaut est plus élevé pour les SCI avec un code NAF 6832B."
   ]
  },
  {
   "cell_type": "markdown",
   "metadata": {},
   "source": [
    "#### II.1.2. Liaisons avec la variable cible"
   ]
  },
  {
   "cell_type": "code",
   "execution_count": null,
   "metadata": {},
   "outputs": [],
   "source": [
    "importlib.reload(functions)\n",
    "cramer_cible_res=functions.compute_cramers_v(X_train, categorical_vars,cible).sort_values(by = \"Cramer_V\", ascending=True).round(3)"
   ]
  },
  {
   "cell_type": "code",
   "execution_count": null,
   "metadata": {},
   "outputs": [],
   "source": [
    "plt.barh(cramer_cible_res['Columns'], cramer_cible_res[\"Cramer_V\"])\n",
    "\n",
    "# Ajoutez des étiquettes et un titre\n",
    "plt.xlabel('V de cramer')\n",
    "plt.ylabel('Variable')\n",
    "plt.title('Variables catégorielles dépendantes de la variable cible')\n"
   ]
  },
  {
   "cell_type": "markdown",
   "metadata": {},
   "source": [
    "Le secteur d'activité n'est pas corrélé à la variable cible. En effet, pour les deux segmentations du code NAF, on obtient un V de cramer inferieur à 1%.\n",
    "Attention, il y a également un déséquilibre au sein de la variable cible. Il ne faudrait donc pas se fier à la grandeur du v de cramer pour juger de la liaison entre la variable cible et la variable explicative, mais regarder l'ordre de correlation et potentiellement appliquer une méthode par le coude."
   ]
  },
  {
   "cell_type": "markdown",
   "metadata": {},
   "source": [
    "#### II.1.3. Liaisons entre les variables catégorielles\n"
   ]
  },
  {
   "cell_type": "code",
   "execution_count": null,
   "metadata": {},
   "outputs": [],
   "source": [
    "importlib.reload(functions)\n",
    "p_value_df,cramer_v_df=functions.stats_liaisons_var_quali(X_train,categorical_vars)\n",
    "np.fill_diagonal(cramer_v_df.values, 1)"
   ]
  },
  {
   "cell_type": "code",
   "execution_count": null,
   "metadata": {},
   "outputs": [],
   "source": [
    "# Créer la heatmap\n",
    "plt.figure(figsize=(8, 4))  # Vous pouvez ajuster la taille de la figure si nécessaire\n",
    "sns.heatmap(cramer_v_df.astype(float), cmap='coolwarm', annot=True, fmt=\".2f\", linewidths=.5)"
   ]
  },
  {
   "cell_type": "markdown",
   "metadata": {},
   "source": [
    "Sans surprise, mes deux variables sont très correlées. Il faudrait peut-être garder la variable secteur d'activité bien que la moins corrélée avec la variable cible car elle ne présente pas d'inversion de risque et les taux de défauts par modalité sont stables dans le temps."
   ]
  },
  {
   "cell_type": "code",
   "execution_count": null,
   "metadata": {},
   "outputs": [],
   "source": [
    "final_cat_var = ['SECTNAF']\n",
    "importlib.reload(functions)\n",
    "\n",
    "functions.test_freq_by_group(X_train, final_cat_var)\n",
    "#functions.group_by_rsq(X_train, final_cat_var, cible)"
   ]
  },
  {
   "cell_type": "markdown",
   "metadata": {},
   "source": [
    "### II.2. Variables continues\n",
    "\n",
    "#### II.2.1 Statistiques descriptitves univariées des variables continues\n",
    "Analyse visuelles des distributions"
   ]
  },
  {
   "cell_type": "code",
   "execution_count": null,
   "metadata": {},
   "outputs": [],
   "source": [
    "df['DATRLNORG'].describe()"
   ]
  },
  {
   "cell_type": "code",
   "execution_count": null,
   "metadata": {},
   "outputs": [],
   "source": [
    "importlib.reload(functions)\n",
    "\n",
    "functions.plot_boxplots(X_train,cont_vars,cols=4)"
   ]
  },
  {
   "cell_type": "code",
   "execution_count": null,
   "metadata": {},
   "outputs": [],
   "source": [
    "functions.plot_boxplots_by_target(X_train, cont_vars, cible, cols=4)\n",
    "# KDE plot"
   ]
  },
  {
   "cell_type": "code",
   "execution_count": null,
   "metadata": {},
   "outputs": [],
   "source": [
    "# importlib.reload(functions)\n",
    "# summary_=functions.summarize_continuous_vars(X_train,cont_vars)\n",
    "\n",
    "# functions.summarize_distribution_table(summary_)"
   ]
  },
  {
   "cell_type": "code",
   "execution_count": null,
   "metadata": {},
   "outputs": [],
   "source": [
    "### aNALYSE VISUELLE DES VARIABLES CONTINUES"
   ]
  },
  {
   "cell_type": "markdown",
   "metadata": {},
   "source": [
    "#### II.2.2 Liaisons avec la variable cible\n",
    "\n",
    "Utiliser des indicateurs tels que le HSIC, information mutuelle, en plus des indicateurs usuelles.\n",
    "\n",
    "Question à poser : En regréssion logistique, on ne souhaite que chasser les liaisons monotones et linéaires entre les variables explicatives.\n",
    "\n",
    "/!\\ Attention à la définition de seuil pour ces indicateurs."
   ]
  },
  {
   "cell_type": "markdown",
   "metadata": {},
   "source": []
  },
  {
   "cell_type": "markdown",
   "metadata": {},
   "source": [
    "#### II.2.2.1. relation enre les variables continues et la vatiable cible"
   ]
  },
  {
   "cell_type": "code",
   "execution_count": null,
   "metadata": {},
   "outputs": [],
   "source": [
    "### La taille des echantillons etant relativement grande à l'intérieur de chaque groupe (ceux en défaut et ceux qui ne le sont pas) \n",
    "### l'hypothèse de normalité est moins préoccupante dans le cadre d'un test d'ANOVA dû au Théoreme central limite\n",
    "\n",
    "### Pour les variables continues contenues dans cont_vars, nous allons effectuer un test d'ANOVA pour vérifier si les moyennes des groupes sont égales\n",
    "\n",
    "importlib.reload(functions)\n",
    "anova_results=functions.perform_anova(X_train, cont_vars, cible)\n",
    "\n"
   ]
  },
  {
   "cell_type": "code",
   "execution_count": null,
   "metadata": {},
   "outputs": [],
   "source": [
    "anova_results"
   ]
  },
  {
   "cell_type": "code",
   "execution_count": null,
   "metadata": {},
   "outputs": [],
   "source": [
    "# Affichons les statistiques de test des variables continues rangées par ordre decroissant\n",
    "\"\"\"results_df = pd.DataFrame(anova_results)\n",
    "    \n",
    "# Trier par F-statistic décroissante\n",
    "results_df = results_df.sort_values(by=\"F-Statistic\", ascending=False).reset_index(drop=True)\n",
    "    \n",
    "# Plot des résultats\n",
    "plt.figure(figsize=(10, 6))\n",
    "sns.barplot(x=\"F-Statistic\", y=\"Variable\", data=results_df, palette=\"viridis\")\n",
    "plt.title(\"ANOVA: F-Statistics by Variable\", fontsize=16)\n",
    "plt.xlabel(\"F-Statistic\", fontsize=14)\n",
    "plt.ylabel(\"Variables\", fontsize=14)\n",
    "plt.tight_layout()\n",
    "plt.show()\"\"\""
   ]
  },
  {
   "cell_type": "code",
   "execution_count": null,
   "metadata": {},
   "outputs": [],
   "source": [
    "#### Le kruskall Wallis etant un test non parametrique, il est plus robuste que l'ANOVA en cas de non respect de l'hypothèse de normalité\n",
    "###Mettons en place un test de Kruskall Wallis pour vérifier si les distributions des variables continues sont les mêmes pour les différentes modalités de la variable cible\n",
    "\n",
    "importlib.reload(functions)\n",
    "kruskal_results=functions.perform_kruskal_wallis(X_train, cont_vars, cible)\n",
    "\n"
   ]
  },
  {
   "cell_type": "code",
   "execution_count": null,
   "metadata": {},
   "outputs": [],
   "source": [
    "kruskal_results"
   ]
  },
  {
   "cell_type": "code",
   "execution_count": null,
   "metadata": {},
   "outputs": [],
   "source": [
    "### le nombre de variables retenu par le test de Kruskall wallis\n",
    "len(kruskal_results.T.columns)\n",
    "\n"
   ]
  },
  {
   "cell_type": "markdown",
   "metadata": {},
   "source": [
    "#### II.2.2 Liaisons entre les variables continues selectionnées"
   ]
  },
  {
   "cell_type": "code",
   "execution_count": null,
   "metadata": {},
   "outputs": [],
   "source": [
    "spearman_res=X_train[cont_vars].corr(method='spearman')\n",
    "plt.figure(figsize=(12, 10))\n",
    "sns.heatmap(spearman_res,cmap='coolwarm', linewidths=.5)\n",
    "\n",
    "# Ajoutez un titre\n",
    "plt.title('Matrice de Corrélation')\n",
    "\n",
    "# Affichez le graphique\n",
    "plt.show()"
   ]
  },
  {
   "cell_type": "markdown",
   "metadata": {},
   "source": [
    "#### II.2.3 Discrétisation des variables continues"
   ]
  },
  {
   "cell_type": "code",
   "execution_count": null,
   "metadata": {},
   "outputs": [],
   "source": [
    "importlib.reload(functions)\n",
    "if __name__ == '__main__':\n",
    "    max_intervals = 4\n",
    "    obj = functions.Discretization()\n",
    "    intervals_by_variable = []  # Liste pour stocker les intervalles par variable\n",
    "    \n",
    "    for colName in [\"CRTOC_AG_NBJDEB_IND_0015\",\"CRTOC_AG_NBJDEB_2T_IND_0015\"]:\n",
    "        print('\\nInterval for', colName)\n",
    "        # Générer les intervalles\n",
    "        intervals = obj.get_chimerge_intervals(X_train, colName, cible, max_intervals)\n",
    "        \n",
    "        # Ajouter les intervalles à la liste avec le nom de la variable\n",
    "        intervals_by_variable.append({\n",
    "            'variable': colName,\n",
    "            'intervals': intervals\n",
    "        })\n",
    "        \n",
    "        print(tabulate([[intervals]], tablefmt='fancy_grid'))"
   ]
  },
  {
   "cell_type": "markdown",
   "metadata": {},
   "source": [
    "Stabilité des variables discrétisées"
   ]
  },
  {
   "cell_type": "code",
   "execution_count": null,
   "metadata": {},
   "outputs": [],
   "source": [
    "importlib.reload(functions)\n",
    "dis_data,new_vars=functions.discretize_with_intervals(X_train, intervals_by_variable,date,cible)\n",
    "\n",
    "dis_data.head()\n",
    "functions.tx_rsq_par_var(dis_data,new_vars,date,cible)"
   ]
  },
  {
   "cell_type": "markdown",
   "metadata": {},
   "source": [
    "### III. Construction du modèle"
   ]
  },
  {
   "cell_type": "markdown",
   "metadata": {},
   "source": [
    "#### III.1. Régression logistique\n",
    "\n",
    "Regression lasso, ridge, elastic, méthode stepwise, "
   ]
  }
 ],
 "metadata": {
  "kernelspec": {
   "display_name": "Python 3",
   "language": "python",
   "name": "python3"
  },
  "language_info": {
   "codemirror_mode": {
    "name": "ipython",
    "version": 3
   },
   "file_extension": ".py",
   "mimetype": "text/x-python",
   "name": "python",
   "nbconvert_exporter": "python",
   "pygments_lexer": "ipython3",
   "version": "3.10.12"
  }
 },
 "nbformat": 4,
 "nbformat_minor": 2
}
