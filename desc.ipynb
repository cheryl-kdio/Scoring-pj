{
 "cells": [
  {
   "cell_type": "code",
   "execution_count": 1,
   "metadata": {},
   "outputs": [],
   "source": [
    "# import de la base de données excel\n",
    "\n",
    "import pandas as pd\n",
    "\n",
    "data_origin = pd.read_excel('sci.xlsx')\n",
    "# Suppression des variables illégales\n",
    "data = data_origin.drop(['CODPAY_NAISSANCE', 'CODPAY_NATIONALITE','CODPAY_RESIDENCE','CODSEXPRS','CODCMNIEE'], axis=1)"
   ]
  },
  {
   "cell_type": "code",
   "execution_count": 2,
   "metadata": {},
   "outputs": [
    {
     "name": "stdout",
     "output_type": "stream",
     "text": [
      "(495514, 62)\n",
      "Index(['id_client', 'DDefaut_NDB', 'datdelhis', 'AGEPRS', 'ANCIENNETE',\n",
      "       'CODETAJUR', 'CODITDBDF_PRO', 'CODNAF2', 'CODTYPPRS',\n",
      "       'CRTAD_AG_MVTAFF_IND_0010', 'CRTAD_AG_NBECR_A', 'CRTAD_AG_NBECR_B',\n",
      "       'CRTAD_AG_NBJDE_BA', 'CRTAD_AG_NBJDE_BB', 'CRTAD_AG_NBJDE_BC',\n",
      "       'CRTAD_AG_SOLDE_IND_0009', 'CRTAD_AG_SOLDE_T', 'CRTAD_AG_SOLDE_T1',\n",
      "       'CRTAD_AG_SOLDE_T2', 'CRTAD_AG_SOLDE_T3', 'CRTAD_AG_SOLDE_T4',\n",
      "       'CRTAD_IND_0015', 'CRTAD_IND_0038', 'CRTAD_IND_0062', 'CRTAD_IND_0205',\n",
      "       'CRTAE_AG_SLDEPA', 'CRTAR_IND_0036', 'CRTOC_AG_LIGCRE_2T_IND_0009',\n",
      "       'CRTOC_AG_LIGCRE_IND_0009', 'CRTOC_AG_LIGDEB_2T_IND_0015',\n",
      "       'CRTOC_AG_LIGDEB_IND_0015', 'CRTOC_AG_MVTAFF_2T_IND_0010',\n",
      "       'CRTOC_AG_MVTAFF_IND_0010', 'CRTOC_AG_NBJCRE_2T_IND_0009',\n",
      "       'CRTOC_AG_NBJDEB_2T_IND_0015', 'CRTOC_AG_NBJDEB_IND_0015',\n",
      "       'CRTOC_IND_0010', 'CRTOC_IND_0015', 'CRTOC_IND_0164', 'CRTOC_IND_0301',\n",
      "       'CRTOC_MOY_MVTAFF_IND_0010', 'CRTOC_SLD_MOY', 'CRTOD_CMT_IND_0036',\n",
      "       'CRTOD_CMT_PRO_IND_0209', 'CRTOP_AG_IND_0038', 'CRTOP_IND_0038',\n",
      "       'CRTOU_CCT_PRO_IND_0209', 'DATCREENT', 'DATRLNORG', 'INDPARDCD',\n",
      "       'MINSOLDE_PAR', 'NBECR_PAR', 'RATIO1', 'RATIO3', 'TOP_PRO_ACTIF',\n",
      "       'CRTAD_IND_0042', 'CODACVPRO', 'DATCREPRSENT', 'IND_ACTIF',\n",
      "       'IND_PER_PM', 'secteur_activite', 'secteur_activite_bis'],\n",
      "      dtype='object')\n"
     ]
    }
   ],
   "source": [
    "print(data.shape)\n",
    "print(data.columns)"
   ]
  },
  {
   "cell_type": "code",
   "execution_count": 5,
   "metadata": {},
   "outputs": [
    {
     "data": {
      "text/plain": [
       "id_client                        int64\n",
       "DDefaut_NDB                      int64\n",
       "datdelhis                        int64\n",
       "AGEPRS                           int64\n",
       "ANCIENNETE                       int64\n",
       "                             ...      \n",
       "DATCREPRSENT            datetime64[ns]\n",
       "IND_ACTIF                        int64\n",
       "IND_PER_PM                      object\n",
       "secteur_activite                object\n",
       "secteur_activite_bis            object\n",
       "Length: 62, dtype: object"
      ]
     },
     "execution_count": 5,
     "metadata": {},
     "output_type": "execute_result"
    }
   ],
   "source": [
    "data.dtypes"
   ]
  },
  {
   "cell_type": "code",
   "execution_count": 7,
   "metadata": {},
   "outputs": [
    {
     "name": "stdout",
     "output_type": "stream",
     "text": [
      "6\n"
     ]
    }
   ],
   "source": [
    "print(data['datdelhis'].nunique())\n",
    "data['datdelhis'] = pd.to_datetime(data['datdelhis'], format = '%Y%m')"
   ]
  },
  {
   "cell_type": "code",
   "execution_count": 8,
   "metadata": {},
   "outputs": [
    {
     "data": {
      "text/plain": [
       "id_client                        int64\n",
       "DDefaut_NDB                      int64\n",
       "datdelhis               datetime64[ns]\n",
       "AGEPRS                           int64\n",
       "ANCIENNETE                       int64\n",
       "                             ...      \n",
       "DATCREPRSENT            datetime64[ns]\n",
       "IND_ACTIF                        int64\n",
       "IND_PER_PM                      object\n",
       "secteur_activite                object\n",
       "secteur_activite_bis            object\n",
       "Length: 62, dtype: object"
      ]
     },
     "execution_count": 8,
     "metadata": {},
     "output_type": "execute_result"
    }
   ],
   "source": [
    "data.dtypes"
   ]
  },
  {
   "cell_type": "code",
   "execution_count": 14,
   "metadata": {},
   "outputs": [
    {
     "data": {
      "image/png": "[encoded data removed]",
      "text/plain": [
       "<Figure size 640x480 with 1 Axes>"
      ]
     },
     "metadata": {},
     "output_type": "display_data"
    }
   ],
   "source": [
    "# Evolution de la variable cible dans le temps\n",
    "import matplotlib.pyplot as plt\n",
    "\n",
    "taux_cible = data.groupby(data['datdelhis'].dt.to_period('M'))['DDefaut_NDB'].mean() # ou sum()\n",
    "\n",
    "# Tracer le taux de la variable cible au fil du temps\n",
    "taux_cible.plot(title='Taux de défaut dans le temps')\n",
    "plt.xlabel('Date')\n",
    "plt.ylabel('Taux de défaut')\n",
    "plt.ylim(0,0.1)\n",
    "plt.show()"
   ]
  },
  {
   "cell_type": "code",
   "execution_count": 15,
   "metadata": {},
   "outputs": [
    {
     "data": {
      "text/plain": [
       "DDefaut_NDB\n",
       "0    0.980374\n",
       "1    0.019626\n",
       "Name: proportion, dtype: float64"
      ]
     },
     "execution_count": 15,
     "metadata": {},
     "output_type": "execute_result"
    }
   ],
   "source": [
    "cible = \"DDefaut_NDB\"\n",
    "data[cible].value_counts(normalize=True)"
   ]
  },
  {
   "cell_type": "code",
   "execution_count": null,
   "metadata": {},
   "outputs": [],
   "source": [
    "## Creation des echantillons train et test \n",
    "from sklearn.model_selection import train_test_split\n",
    "\n",
    "X = data.drop(columns = [cible])\n",
    "y = data[cible]\n",
    "X['stratify_col'] = data[cible].astype(str) + '_' + data['datdelhis'].astype(str)\n",
    "\n",
    "\n",
    "# Split train-test stratifié en utilisant la colonne combinée\n",
    "X_train, X_test, y_train, y_test = train_test_split(\n",
    "    X,  # Les features incluant la date si elle est utilisée comme feature\n",
    "    y,                 # La variable cible\n",
    "    stratify=X['stratify_col'],  # La nouvelle colonne pour la stratification\n",
    "    test_size=0.3,                # La proportion de l'ensemble de test\n",
    "    random_state=42               # La graine pour la reproductibilité\n",
    ")\n"
   ]
  },
  {
   "cell_type": "code",
   "execution_count": 19,
   "metadata": {},
   "outputs": [],
   "source": [
    "X_train = X_train.drop(['stratify_col'], axis=1)\n",
    "X_test = X_test.drop(['stratify_col'], axis=1)"
   ]
  },
  {
   "cell_type": "code",
   "execution_count": 3,
   "metadata": {},
   "outputs": [
    {
     "name": "stdout",
     "output_type": "stream",
     "text": [
      "id_client                  0\n",
      "DDefaut_NDB                0\n",
      "datdelhis                  0\n",
      "AGEPRS                     0\n",
      "ANCIENNETE                 0\n",
      "                        ... \n",
      "DATCREPRSENT            4665\n",
      "IND_ACTIF                  0\n",
      "IND_PER_PM                 0\n",
      "secteur_activite           0\n",
      "secteur_activite_bis       0\n",
      "Length: 62, dtype: int64\n"
     ]
    }
   ],
   "source": [
    "# count na values by columns\n",
    "print(data.isna().sum())"
   ]
  },
  {
   "cell_type": "code",
   "execution_count": 4,
   "metadata": {},
   "outputs": [
    {
     "name": "stdout",
     "output_type": "stream",
     "text": [
      "0\n"
     ]
    }
   ],
   "source": [
    "# Vérification des doublons par ligne dans la base de données\n",
    "print(data.duplicated().sum())"
   ]
  },
  {
   "cell_type": "code",
   "execution_count": null,
   "metadata": {},
   "outputs": [],
   "source": [
    "data_transposed = data.T\n",
    "data_transposed.shape\n",
    "#print(data_transposed.duplicated().sum())"
   ]
  },
  {
   "cell_type": "code",
   "execution_count": null,
   "metadata": {},
   "outputs": [
    {
     "data": {
      "text/plain": [
       "(62, 495514)"
      ]
     },
     "execution_count": 6,
     "metadata": {},
     "output_type": "execute_result"
    }
   ],
   "source": [
    "column_to_compare = data [\"\"]"
   ]
  },
  {
   "cell_type": "code",
   "execution_count": null,
   "metadata": {},
   "outputs": [],
   "source": []
  },
  {
   "cell_type": "code",
   "execution_count": null,
   "metadata": {},
   "outputs": [],
   "source": []
  }
 ],
 "metadata": {
  "kernelspec": {
   "display_name": "Python 3",
   "language": "python",
   "name": "python3"
  },
  "language_info": {
   "codemirror_mode": {
    "name": "ipython",
    "version": 3
   },
   "file_extension": ".py",
   "mimetype": "text/x-python",
   "name": "python",
   "nbconvert_exporter": "python",
   "pygments_lexer": "ipython3",
   "version": "3.10.12"
  }
 },
 "nbformat": 4,
 "nbformat_minor": 2
}
